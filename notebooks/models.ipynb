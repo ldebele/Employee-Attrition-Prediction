{
 "cells": [
  {
   "cell_type": "code",
   "execution_count": 57,
   "metadata": {},
   "outputs": [],
   "source": [
    "import pandas as pd\n",
    "\n",
    "from category_encoders import OrdinalEncoder\n",
    "from imblearn.over_sampling import SMOTE, RandomOverSampler\n",
    "from sklearn.ensemble import RandomForestClassifier, AdaBoostClassifier, GradientBoostingClassifier \n",
    "from sklearn.linear_model import LogisticRegression\n",
    "from sklearn.metrics import confusion_matrix\n",
    "from sklearn.model_selection import train_test_split, GridSearchCV\n",
    "from sklearn.pipeline import make_pipeline\n",
    "from sklearn.preprocessing import LabelEncoder, StandardScaler\n",
    "from xgboost import XGBClassifier\n",
    "\n"
   ]
  },
  {
   "cell_type": "code",
   "execution_count": 58,
   "metadata": {},
   "outputs": [
    {
     "data": {
      "text/html": [
       "<div>\n",
       "<style scoped>\n",
       "    .dataframe tbody tr th:only-of-type {\n",
       "        vertical-align: middle;\n",
       "    }\n",
       "\n",
       "    .dataframe tbody tr th {\n",
       "        vertical-align: top;\n",
       "    }\n",
       "\n",
       "    .dataframe thead th {\n",
       "        text-align: right;\n",
       "    }\n",
       "</style>\n",
       "<table border=\"1\" class=\"dataframe\">\n",
       "  <thead>\n",
       "    <tr style=\"text-align: right;\">\n",
       "      <th></th>\n",
       "      <th>Age</th>\n",
       "      <th>Attrition</th>\n",
       "      <th>BusinessTravel</th>\n",
       "      <th>DailyRate</th>\n",
       "      <th>Department</th>\n",
       "      <th>DistanceFromHome</th>\n",
       "      <th>Education</th>\n",
       "      <th>EducationField</th>\n",
       "      <th>EnvironmentSatisfaction</th>\n",
       "      <th>Gender</th>\n",
       "      <th>...</th>\n",
       "      <th>PerformanceRating</th>\n",
       "      <th>RelationshipSatisfaction</th>\n",
       "      <th>StockOptionLevel</th>\n",
       "      <th>TotalWorkingYears</th>\n",
       "      <th>TrainingTimesLastYear</th>\n",
       "      <th>WorkLifeBalance</th>\n",
       "      <th>YearsAtCompany</th>\n",
       "      <th>YearsInCurrentRole</th>\n",
       "      <th>YearsSinceLastPromotion</th>\n",
       "      <th>YearsWithCurrManager</th>\n",
       "    </tr>\n",
       "  </thead>\n",
       "  <tbody>\n",
       "    <tr>\n",
       "      <th>0</th>\n",
       "      <td>41</td>\n",
       "      <td>Yes</td>\n",
       "      <td>Travel_Rarely</td>\n",
       "      <td>1102</td>\n",
       "      <td>Sales</td>\n",
       "      <td>1</td>\n",
       "      <td>2</td>\n",
       "      <td>Life Sciences</td>\n",
       "      <td>2</td>\n",
       "      <td>Female</td>\n",
       "      <td>...</td>\n",
       "      <td>3</td>\n",
       "      <td>1</td>\n",
       "      <td>0</td>\n",
       "      <td>8</td>\n",
       "      <td>0</td>\n",
       "      <td>1</td>\n",
       "      <td>6</td>\n",
       "      <td>4</td>\n",
       "      <td>0</td>\n",
       "      <td>5</td>\n",
       "    </tr>\n",
       "    <tr>\n",
       "      <th>1</th>\n",
       "      <td>49</td>\n",
       "      <td>No</td>\n",
       "      <td>Travel_Frequently</td>\n",
       "      <td>279</td>\n",
       "      <td>Research &amp; Development</td>\n",
       "      <td>8</td>\n",
       "      <td>1</td>\n",
       "      <td>Life Sciences</td>\n",
       "      <td>3</td>\n",
       "      <td>Male</td>\n",
       "      <td>...</td>\n",
       "      <td>4</td>\n",
       "      <td>4</td>\n",
       "      <td>1</td>\n",
       "      <td>10</td>\n",
       "      <td>3</td>\n",
       "      <td>3</td>\n",
       "      <td>10</td>\n",
       "      <td>7</td>\n",
       "      <td>1</td>\n",
       "      <td>7</td>\n",
       "    </tr>\n",
       "    <tr>\n",
       "      <th>2</th>\n",
       "      <td>37</td>\n",
       "      <td>Yes</td>\n",
       "      <td>Travel_Rarely</td>\n",
       "      <td>1373</td>\n",
       "      <td>Research &amp; Development</td>\n",
       "      <td>2</td>\n",
       "      <td>2</td>\n",
       "      <td>Other</td>\n",
       "      <td>4</td>\n",
       "      <td>Male</td>\n",
       "      <td>...</td>\n",
       "      <td>3</td>\n",
       "      <td>2</td>\n",
       "      <td>0</td>\n",
       "      <td>7</td>\n",
       "      <td>3</td>\n",
       "      <td>3</td>\n",
       "      <td>0</td>\n",
       "      <td>0</td>\n",
       "      <td>0</td>\n",
       "      <td>0</td>\n",
       "    </tr>\n",
       "    <tr>\n",
       "      <th>3</th>\n",
       "      <td>33</td>\n",
       "      <td>No</td>\n",
       "      <td>Travel_Frequently</td>\n",
       "      <td>1392</td>\n",
       "      <td>Research &amp; Development</td>\n",
       "      <td>3</td>\n",
       "      <td>4</td>\n",
       "      <td>Life Sciences</td>\n",
       "      <td>4</td>\n",
       "      <td>Female</td>\n",
       "      <td>...</td>\n",
       "      <td>3</td>\n",
       "      <td>3</td>\n",
       "      <td>0</td>\n",
       "      <td>8</td>\n",
       "      <td>3</td>\n",
       "      <td>3</td>\n",
       "      <td>8</td>\n",
       "      <td>7</td>\n",
       "      <td>3</td>\n",
       "      <td>0</td>\n",
       "    </tr>\n",
       "    <tr>\n",
       "      <th>4</th>\n",
       "      <td>27</td>\n",
       "      <td>No</td>\n",
       "      <td>Travel_Rarely</td>\n",
       "      <td>591</td>\n",
       "      <td>Research &amp; Development</td>\n",
       "      <td>2</td>\n",
       "      <td>1</td>\n",
       "      <td>Medical</td>\n",
       "      <td>1</td>\n",
       "      <td>Male</td>\n",
       "      <td>...</td>\n",
       "      <td>3</td>\n",
       "      <td>4</td>\n",
       "      <td>1</td>\n",
       "      <td>6</td>\n",
       "      <td>3</td>\n",
       "      <td>3</td>\n",
       "      <td>2</td>\n",
       "      <td>2</td>\n",
       "      <td>2</td>\n",
       "      <td>2</td>\n",
       "    </tr>\n",
       "  </tbody>\n",
       "</table>\n",
       "<p>5 rows × 31 columns</p>\n",
       "</div>"
      ],
      "text/plain": [
       "   Age Attrition     BusinessTravel  DailyRate              Department  \\\n",
       "0   41       Yes      Travel_Rarely       1102                   Sales   \n",
       "1   49        No  Travel_Frequently        279  Research & Development   \n",
       "2   37       Yes      Travel_Rarely       1373  Research & Development   \n",
       "3   33        No  Travel_Frequently       1392  Research & Development   \n",
       "4   27        No      Travel_Rarely        591  Research & Development   \n",
       "\n",
       "   DistanceFromHome  Education EducationField  EnvironmentSatisfaction  \\\n",
       "0                 1          2  Life Sciences                        2   \n",
       "1                 8          1  Life Sciences                        3   \n",
       "2                 2          2          Other                        4   \n",
       "3                 3          4  Life Sciences                        4   \n",
       "4                 2          1        Medical                        1   \n",
       "\n",
       "   Gender  ...  PerformanceRating  RelationshipSatisfaction  StockOptionLevel  \\\n",
       "0  Female  ...                  3                         1                 0   \n",
       "1    Male  ...                  4                         4                 1   \n",
       "2    Male  ...                  3                         2                 0   \n",
       "3  Female  ...                  3                         3                 0   \n",
       "4    Male  ...                  3                         4                 1   \n",
       "\n",
       "  TotalWorkingYears  TrainingTimesLastYear WorkLifeBalance  YearsAtCompany  \\\n",
       "0                 8                      0               1               6   \n",
       "1                10                      3               3              10   \n",
       "2                 7                      3               3               0   \n",
       "3                 8                      3               3               8   \n",
       "4                 6                      3               3               2   \n",
       "\n",
       "   YearsInCurrentRole  YearsSinceLastPromotion YearsWithCurrManager  \n",
       "0                   4                        0                    5  \n",
       "1                   7                        1                    7  \n",
       "2                   0                        0                    0  \n",
       "3                   7                        3                    0  \n",
       "4                   2                        2                    2  \n",
       "\n",
       "[5 rows x 31 columns]"
      ]
     },
     "execution_count": 58,
     "metadata": {},
     "output_type": "execute_result"
    }
   ],
   "source": [
    "df = pd.read_csv('../data/clean_HR_Analytics.csv')\n",
    "df.head()"
   ]
  },
  {
   "cell_type": "code",
   "execution_count": 59,
   "metadata": {},
   "outputs": [],
   "source": [
    "# Vertical split \n",
    "target = \"Attrition\"\n",
    "X = df.drop(columns=target)\n",
    "y = df[target]"
   ]
  },
  {
   "cell_type": "code",
   "execution_count": 60,
   "metadata": {},
   "outputs": [],
   "source": [
    "label = LabelEncoder()\n",
    "y_encoded = label.fit_transform(y)\n",
    "\n",
    "ordinal = OrdinalEncoder()\n",
    "X_encoded = ordinal.fit_transform(X)"
   ]
  },
  {
   "cell_type": "code",
   "execution_count": 61,
   "metadata": {},
   "outputs": [],
   "source": [
    "X_train, X_test, y_train, y_test = train_test_split(X_encoded, y_encoded, test_size=0.2, random_state=42)"
   ]
  },
  {
   "cell_type": "code",
   "execution_count": 11,
   "metadata": {},
   "outputs": [],
   "source": [
    "smote = SMOTE()\n",
    "X_train_over, y_train_over = smote.fit_resample(X_train, y_train)"
   ]
  },
  {
   "cell_type": "code",
   "execution_count": 71,
   "metadata": {},
   "outputs": [],
   "source": [
    "def train_model(clf, params):\n",
    "    pipeline = make_pipeline(\n",
    "        # StandardScaler(),\n",
    "        clf\n",
    "    )\n",
    "    # model = clf\n",
    "\n",
    "\n",
    "    model = GridSearchCV(\n",
    "        pipeline,\n",
    "        param_grid=params,\n",
    "        cv=5,\n",
    "        n_jobs=-1,\n",
    "        verbose=1\n",
    "    )\n",
    "\n",
    "\n",
    "    model.fit(X_train, y_train)\n",
    "\n",
    "    y_pred = model.predict(X_test)\n",
    "\n",
    "    train_acc = model.score(X_train, y_train)\n",
    "    test_acc = model.score(X_test, y_test)\n",
    "\n",
    "    print(\"Training Accuracy: \", round(train_acc, 2))\n",
    "    print(\"Test Accuracy: \", round(test_acc, 2))\n",
    "\n",
    "    cm = confusion_matrix(y_test, y_pred)\n",
    "    print(\"---confusion matrix----\")\n",
    "    print(cm)\n",
    "\n",
    "    return model"
   ]
  },
  {
   "cell_type": "code",
   "execution_count": 46,
   "metadata": {},
   "outputs": [],
   "source": [
    "clf = LogisticRegression()\n",
    "# train_model(clf)"
   ]
  },
  {
   "cell_type": "code",
   "execution_count": null,
   "metadata": {},
   "outputs": [],
   "source": []
  },
  {
   "cell_type": "code",
   "execution_count": 70,
   "metadata": {},
   "outputs": [
    {
     "name": "stdout",
     "output_type": "stream",
     "text": [
      "Training Accuracy:  0.86\n",
      "Test Accuracy:  0.87\n",
      "---confusion matrix----\n",
      "[[247   8]\n",
      " [ 31   8]]\n"
     ]
    },
    {
     "data": {
      "text/plain": [
       "LogisticRegression(max_iter=10000)"
      ]
     },
     "execution_count": 70,
     "metadata": {},
     "output_type": "execute_result"
    }
   ],
   "source": [
    "clf = LogisticRegression(max_iter=10000)\n",
    "train_model(clf)"
   ]
  },
  {
   "cell_type": "markdown",
   "metadata": {},
   "source": [
    "#### RandomForest"
   ]
  },
  {
   "cell_type": "code",
   "execution_count": 38,
   "metadata": {},
   "outputs": [
    {
     "name": "stdout",
     "output_type": "stream",
     "text": [
      "Fitting 5 folds for each of 56 candidates, totalling 280 fits\n",
      "Training Accuracy:  1.0\n",
      "Test Accuracy:  0.86\n",
      "---confusion matrix----\n",
      "[[242  13]\n",
      " [ 29  10]]\n"
     ]
    }
   ],
   "source": [
    "clf = RandomForestClassifier()\n",
    "params = {\n",
    "    \"randomforestclassifier__n_estimators\": range(30, 100, 10),\n",
    "    \"randomforestclassifier__max_depth\": range(10, 50, 5)\n",
    "}\n",
    "\n",
    "rf_model = train_model(clf=clf, params=params)"
   ]
  },
  {
   "cell_type": "code",
   "execution_count": 48,
   "metadata": {},
   "outputs": [
    {
     "name": "stdout",
     "output_type": "stream",
     "text": [
      "Fitting 5 folds for each of 56 candidates, totalling 280 fits\n",
      "Training Accuracy:  1.0\n",
      "Test Accuracy:  0.86\n",
      "---confusion matrix----\n",
      "[[242  13]\n",
      " [ 28  11]]\n"
     ]
    }
   ],
   "source": [
    "clf = RandomForestClassifier()\n",
    "params = {\n",
    "    \"randomforestclassifier__n_estimators\": range(30, 100, 10),\n",
    "    \"randomforestclassifier__max_depth\": range(10, 50, 5)\n",
    "}\n",
    "\n",
    "rf_model = train_model(clf=clf, params=params)"
   ]
  },
  {
   "cell_type": "code",
   "execution_count": 72,
   "metadata": {},
   "outputs": [
    {
     "name": "stdout",
     "output_type": "stream",
     "text": [
      "Fitting 5 folds for each of 56 candidates, totalling 280 fits\n",
      "Training Accuracy:  1.0\n",
      "Test Accuracy:  0.87\n",
      "---confusion matrix----\n",
      "[[252   3]\n",
      " [ 35   4]]\n"
     ]
    }
   ],
   "source": [
    "clf = RandomForestClassifier()\n",
    "params = {\n",
    "    \"randomforestclassifier__n_estimators\": range(30, 100, 10),\n",
    "    \"randomforestclassifier__max_depth\": range(10, 50, 5)\n",
    "}\n",
    "\n",
    "rf_model = train_model(clf=clf, params=params)"
   ]
  },
  {
   "cell_type": "markdown",
   "metadata": {},
   "source": [
    "#### GradientBoosting"
   ]
  },
  {
   "cell_type": "code",
   "execution_count": 40,
   "metadata": {},
   "outputs": [
    {
     "name": "stdout",
     "output_type": "stream",
     "text": [
      "Fitting 5 folds for each of 12 candidates, totalling 60 fits\n",
      "Training Accuracy:  0.94\n",
      "Test Accuracy:  0.85\n",
      "---confusion matrix----\n",
      "[[233  22]\n",
      " [ 23  16]]\n"
     ]
    }
   ],
   "source": [
    "clf = GradientBoostingClassifier()\n",
    "params = {\n",
    "    \"gradientboostingclassifier__max_depth\": range(2, 5, 1),\n",
    "    \"gradientboostingclassifier__n_estimators\": range(20, 40, 5),\n",
    "}\n",
    "\n",
    "gd_model = train_model(clf=clf, params=params)"
   ]
  },
  {
   "cell_type": "code",
   "execution_count": 51,
   "metadata": {},
   "outputs": [
    {
     "name": "stdout",
     "output_type": "stream",
     "text": [
      "Fitting 5 folds for each of 12 candidates, totalling 60 fits\n",
      "Training Accuracy:  0.94\n",
      "Test Accuracy:  0.84\n",
      "---confusion matrix----\n",
      "[[233  22]\n",
      " [ 24  15]]\n"
     ]
    }
   ],
   "source": [
    "clf = GradientBoostingClassifier()\n",
    "params = {\n",
    "    \"gradientboostingclassifier__max_depth\": range(2, 5, 1),\n",
    "    \"gradientboostingclassifier__n_estimators\": range(20, 40, 5),\n",
    "}\n",
    "\n",
    "gd_model = train_model(clf=clf, params=params)"
   ]
  },
  {
   "cell_type": "code",
   "execution_count": 73,
   "metadata": {},
   "outputs": [
    {
     "name": "stdout",
     "output_type": "stream",
     "text": [
      "Fitting 5 folds for each of 12 candidates, totalling 60 fits\n",
      "Training Accuracy:  0.9\n",
      "Test Accuracy:  0.87\n",
      "---confusion matrix----\n",
      "[[252   3]\n",
      " [ 35   4]]\n"
     ]
    }
   ],
   "source": [
    "clf = GradientBoostingClassifier()\n",
    "params = {\n",
    "    \"gradientboostingclassifier__max_depth\": range(2, 5, 1),\n",
    "    \"gradientboostingclassifier__n_estimators\": range(20, 40, 5),\n",
    "}\n",
    "\n",
    "gd_model = train_model(clf=clf, params=params)"
   ]
  },
  {
   "cell_type": "markdown",
   "metadata": {},
   "source": [
    "#### AdaBoostClassifier"
   ]
  },
  {
   "cell_type": "code",
   "execution_count": 41,
   "metadata": {},
   "outputs": [
    {
     "name": "stdout",
     "output_type": "stream",
     "text": [
      "Fitting 5 folds for each of 7 candidates, totalling 35 fits\n",
      "Training Accuracy:  0.91\n",
      "Test Accuracy:  0.83\n",
      "---confusion matrix----\n",
      "[[221  34]\n",
      " [ 17  22]]\n"
     ]
    }
   ],
   "source": [
    "clf = AdaBoostClassifier(random_state=42)\n",
    "params = {\n",
    "    \"adaboostclassifier__n_estimators\": range(30, 100, 10)\n",
    "}\n",
    "\n",
    "ab_model = train_model(clf=clf, params=params)"
   ]
  },
  {
   "cell_type": "code",
   "execution_count": 53,
   "metadata": {},
   "outputs": [
    {
     "name": "stdout",
     "output_type": "stream",
     "text": [
      "Fitting 5 folds for each of 7 candidates, totalling 35 fits\n",
      "Training Accuracy:  0.91\n",
      "Test Accuracy:  0.83\n",
      "---confusion matrix----\n",
      "[[221  34]\n",
      " [ 17  22]]\n"
     ]
    }
   ],
   "source": [
    "clf = AdaBoostClassifier(random_state=42)\n",
    "params = {\n",
    "    \"adaboostclassifier__n_estimators\": range(30, 100, 10)\n",
    "}\n",
    "ab_model = train_model(clf=clf, params=params)"
   ]
  },
  {
   "cell_type": "code",
   "execution_count": 74,
   "metadata": {},
   "outputs": [
    {
     "name": "stdout",
     "output_type": "stream",
     "text": [
      "Fitting 5 folds for each of 7 candidates, totalling 35 fits\n",
      "Training Accuracy:  0.91\n",
      "Test Accuracy:  0.86\n",
      "---confusion matrix----\n",
      "[[242  13]\n",
      " [ 29  10]]\n"
     ]
    }
   ],
   "source": [
    "clf = AdaBoostClassifier(random_state=42)\n",
    "params = {\n",
    "    \"adaboostclassifier__n_estimators\": range(30, 100, 10)\n",
    "}\n",
    "ab_model = train_model(clf=clf, params=params)"
   ]
  },
  {
   "cell_type": "markdown",
   "metadata": {},
   "source": [
    "#### XGBoostClassifier"
   ]
  },
  {
   "cell_type": "code",
   "execution_count": 42,
   "metadata": {},
   "outputs": [
    {
     "name": "stdout",
     "output_type": "stream",
     "text": [
      "Fitting 5 folds for each of 36 candidates, totalling 180 fits\n",
      "Training Accuracy:  1.0\n",
      "Test Accuracy:  0.86\n",
      "---confusion matrix----\n",
      "[[241  14]\n",
      " [ 28  11]]\n"
     ]
    }
   ],
   "source": [
    "clf = XGBClassifier()\n",
    "\n",
    "params = {\n",
    "    'xgbclassifier__n_estimators': range(100, 300, 50),\n",
    "    'xgbclassifier__max_depth': range(3, 8, 2),\n",
    "    'xgbclassifier__learning_rate': [0.1, 0.01, 0.001]\n",
    "}\n",
    "\n",
    "xg_model = train_model(clf=clf, params=params)"
   ]
  },
  {
   "cell_type": "code",
   "execution_count": 55,
   "metadata": {},
   "outputs": [
    {
     "name": "stdout",
     "output_type": "stream",
     "text": [
      "Fitting 5 folds for each of 36 candidates, totalling 180 fits\n",
      "Training Accuracy:  1.0\n",
      "Test Accuracy:  0.86\n",
      "---confusion matrix----\n",
      "[[241  14]\n",
      " [ 28  11]]\n"
     ]
    }
   ],
   "source": [
    "clf = XGBClassifier()\n",
    "\n",
    "params = {\n",
    "    'xgbclassifier__n_estimators': range(100, 300, 50),\n",
    "    'xgbclassifier__max_depth': range(3, 8, 2),\n",
    "    'xgbclassifier__learning_rate': [0.1, 0.01, 0.001]\n",
    "}\n",
    "\n",
    "xg_model = train_model(clf=clf, params=params)"
   ]
  },
  {
   "cell_type": "code",
   "execution_count": 75,
   "metadata": {},
   "outputs": [
    {
     "name": "stdout",
     "output_type": "stream",
     "text": [
      "Fitting 5 folds for each of 36 candidates, totalling 180 fits\n",
      "Training Accuracy:  0.94\n",
      "Test Accuracy:  0.87\n",
      "---confusion matrix----\n",
      "[[250   5]\n",
      " [ 34   5]]\n"
     ]
    }
   ],
   "source": [
    "clf = XGBClassifier()\n",
    "\n",
    "params = {\n",
    "    'xgbclassifier__n_estimators': range(100, 300, 50),\n",
    "    'xgbclassifier__max_depth': range(3, 8, 2),\n",
    "    'xgbclassifier__learning_rate': [0.1, 0.01, 0.001]\n",
    "}\n",
    "\n",
    "xg_model = train_model(clf=clf, params=params)"
   ]
  },
  {
   "cell_type": "code",
   "execution_count": null,
   "metadata": {},
   "outputs": [],
   "source": []
  }
 ],
 "metadata": {
  "interpreter": {
   "hash": "c883354b242dadbee75c7106c3e9feca4a7402ef3b3588184dc1df4be9150790"
  },
  "kernelspec": {
   "display_name": "Python 3.8.10 ('pystd_venv')",
   "language": "python",
   "name": "python3"
  },
  "language_info": {
   "codemirror_mode": {
    "name": "ipython",
    "version": 3
   },
   "file_extension": ".py",
   "mimetype": "text/x-python",
   "name": "python",
   "nbconvert_exporter": "python",
   "pygments_lexer": "ipython3",
   "version": "3.8.10"
  },
  "orig_nbformat": 4
 },
 "nbformat": 4,
 "nbformat_minor": 2
}
