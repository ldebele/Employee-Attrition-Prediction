{
 "cells": [
  {
   "cell_type": "code",
   "execution_count": 1,
   "metadata": {},
   "outputs": [],
   "source": [
    "import os\n",
    "impor\n",
    "\n",
    "import pandas as pd\n",
    "import matplotlib.pyplot as plt\n",
    "\n",
    "from sklearn.ensemble import RandomForestClassifier\n",
    "from sklearn.model_selection import train_test_split, GridSearchCV, cross_val_score\n",
    "from sklearn.metrics import ConfusionMatrixDisplay, confusion_matrix\n",
    "from sklearn.pipeline import make_pipeline\n",
    "from category_encoders import OneHotEncoder"
   ]
  },
  {
   "cell_type": "code",
   "execution_count": 2,
   "metadata": {},
   "outputs": [],
   "source": [
    "# read the data sets\n",
    "df = pd.read_csv('../data/clean_HR_Analytics.csv')"
   ]
  },
  {
   "cell_type": "markdown",
   "metadata": {},
   "source": [
    "#### Split"
   ]
  },
  {
   "cell_type": "code",
   "execution_count": 3,
   "metadata": {},
   "outputs": [],
   "source": [
    "# vertical split\n",
    "target = \"Attrition\"\n",
    "X = df.drop(columns=target)\n",
    "y = df[target]\n",
    "\n",
    "X_train, X_test, y_train, y_test = train_test_split(X, y, test_size=0.2, random_state=42)"
   ]
  },
  {
   "cell_type": "markdown",
   "metadata": {},
   "source": [
    "#### Build"
   ]
  },
  {
   "cell_type": "code",
   "execution_count": 4,
   "metadata": {},
   "outputs": [],
   "source": [
    "pipe = make_pipeline(\n",
    "    OneHotEncoder(use_cat_names=True),\n",
    "    RandomForestClassifier(random_state=42)\n",
    ")"
   ]
  },
  {
   "cell_type": "code",
   "execution_count": 5,
   "metadata": {},
   "outputs": [],
   "source": [
    "params = {\n",
    "    \"randomforestclassifier__n_estimators\": range(50, 110, 5),\n",
    "    \"randomforestclassifier__max_depth\": range(10, 50, 5)\n",
    "}"
   ]
  },
  {
   "cell_type": "code",
   "execution_count": 6,
   "metadata": {},
   "outputs": [
    {
     "data": {
      "text/plain": [
       "GridSearchCV(cv=5,\n",
       "             estimator=Pipeline(steps=[('onehotencoder',\n",
       "                                        OneHotEncoder(use_cat_names=True)),\n",
       "                                       ('randomforestclassifier',\n",
       "                                        RandomForestClassifier(random_state=42))]),\n",
       "             n_jobs=-1,\n",
       "             param_grid={'randomforestclassifier__max_depth': range(10, 50, 5),\n",
       "                         'randomforestclassifier__n_estimators': range(50, 110, 5)},\n",
       "             verbose=1)"
      ]
     },
     "execution_count": 6,
     "metadata": {},
     "output_type": "execute_result"
    }
   ],
   "source": [
    "model = GridSearchCV(\n",
    "    pipe,\n",
    "    param_grid=params,\n",
    "    cv=5,\n",
    "    n_jobs=-1,\n",
    "    verbose=1\n",
    ")\n",
    "\n",
    "model"
   ]
  },
  {
   "cell_type": "code",
   "execution_count": 7,
   "metadata": {},
   "outputs": [
    {
     "name": "stdout",
     "output_type": "stream",
     "text": [
      "Fitting 5 folds for each of 96 candidates, totalling 480 fits\n"
     ]
    },
    {
     "data": {
      "text/plain": [
       "GridSearchCV(cv=5,\n",
       "             estimator=Pipeline(steps=[('onehotencoder',\n",
       "                                        OneHotEncoder(use_cat_names=True)),\n",
       "                                       ('randomforestclassifier',\n",
       "                                        RandomForestClassifier(random_state=42))]),\n",
       "             n_jobs=-1,\n",
       "             param_grid={'randomforestclassifier__max_depth': range(10, 50, 5),\n",
       "                         'randomforestclassifier__n_estimators': range(50, 110, 5)},\n",
       "             verbose=1)"
      ]
     },
     "execution_count": 7,
     "metadata": {},
     "output_type": "execute_result"
    }
   ],
   "source": [
    "# Train model\n",
    "model.fit(X_train, y_train)"
   ]
  },
  {
   "cell_type": "code",
   "execution_count": 8,
   "metadata": {},
   "outputs": [
    {
     "data": {
      "text/html": [
       "<div>\n",
       "<style scoped>\n",
       "    .dataframe tbody tr th:only-of-type {\n",
       "        vertical-align: middle;\n",
       "    }\n",
       "\n",
       "    .dataframe tbody tr th {\n",
       "        vertical-align: top;\n",
       "    }\n",
       "\n",
       "    .dataframe thead th {\n",
       "        text-align: right;\n",
       "    }\n",
       "</style>\n",
       "<table border=\"1\" class=\"dataframe\">\n",
       "  <thead>\n",
       "    <tr style=\"text-align: right;\">\n",
       "      <th></th>\n",
       "      <th>mean_fit_time</th>\n",
       "      <th>std_fit_time</th>\n",
       "      <th>mean_score_time</th>\n",
       "      <th>std_score_time</th>\n",
       "      <th>param_randomforestclassifier__max_depth</th>\n",
       "      <th>param_randomforestclassifier__n_estimators</th>\n",
       "      <th>params</th>\n",
       "      <th>split0_test_score</th>\n",
       "      <th>split1_test_score</th>\n",
       "      <th>split2_test_score</th>\n",
       "      <th>split3_test_score</th>\n",
       "      <th>split4_test_score</th>\n",
       "      <th>mean_test_score</th>\n",
       "      <th>std_test_score</th>\n",
       "      <th>rank_test_score</th>\n",
       "    </tr>\n",
       "  </thead>\n",
       "  <tbody>\n",
       "    <tr>\n",
       "      <th>0</th>\n",
       "      <td>0.514076</td>\n",
       "      <td>0.067212</td>\n",
       "      <td>0.070685</td>\n",
       "      <td>0.022708</td>\n",
       "      <td>10</td>\n",
       "      <td>50</td>\n",
       "      <td>{'randomforestclassifier__max_depth': 10, 'ran...</td>\n",
       "      <td>0.855932</td>\n",
       "      <td>0.863830</td>\n",
       "      <td>0.846809</td>\n",
       "      <td>0.855319</td>\n",
       "      <td>0.863830</td>\n",
       "      <td>0.857144</td>\n",
       "      <td>0.006341</td>\n",
       "      <td>77</td>\n",
       "    </tr>\n",
       "    <tr>\n",
       "      <th>1</th>\n",
       "      <td>0.551339</td>\n",
       "      <td>0.042182</td>\n",
       "      <td>0.068061</td>\n",
       "      <td>0.012751</td>\n",
       "      <td>10</td>\n",
       "      <td>55</td>\n",
       "      <td>{'randomforestclassifier__max_depth': 10, 'ran...</td>\n",
       "      <td>0.855932</td>\n",
       "      <td>0.868085</td>\n",
       "      <td>0.846809</td>\n",
       "      <td>0.859574</td>\n",
       "      <td>0.863830</td>\n",
       "      <td>0.858846</td>\n",
       "      <td>0.007268</td>\n",
       "      <td>17</td>\n",
       "    </tr>\n",
       "    <tr>\n",
       "      <th>2</th>\n",
       "      <td>0.678263</td>\n",
       "      <td>0.085703</td>\n",
       "      <td>0.061348</td>\n",
       "      <td>0.015928</td>\n",
       "      <td>10</td>\n",
       "      <td>60</td>\n",
       "      <td>{'randomforestclassifier__max_depth': 10, 'ran...</td>\n",
       "      <td>0.855932</td>\n",
       "      <td>0.863830</td>\n",
       "      <td>0.846809</td>\n",
       "      <td>0.855319</td>\n",
       "      <td>0.863830</td>\n",
       "      <td>0.857144</td>\n",
       "      <td>0.006341</td>\n",
       "      <td>77</td>\n",
       "    </tr>\n",
       "    <tr>\n",
       "      <th>3</th>\n",
       "      <td>0.545731</td>\n",
       "      <td>0.051863</td>\n",
       "      <td>0.066744</td>\n",
       "      <td>0.017753</td>\n",
       "      <td>10</td>\n",
       "      <td>65</td>\n",
       "      <td>{'randomforestclassifier__max_depth': 10, 'ran...</td>\n",
       "      <td>0.855932</td>\n",
       "      <td>0.868085</td>\n",
       "      <td>0.846809</td>\n",
       "      <td>0.851064</td>\n",
       "      <td>0.859574</td>\n",
       "      <td>0.856293</td>\n",
       "      <td>0.007311</td>\n",
       "      <td>87</td>\n",
       "    </tr>\n",
       "    <tr>\n",
       "      <th>4</th>\n",
       "      <td>0.603012</td>\n",
       "      <td>0.105094</td>\n",
       "      <td>0.058141</td>\n",
       "      <td>0.007724</td>\n",
       "      <td>10</td>\n",
       "      <td>70</td>\n",
       "      <td>{'randomforestclassifier__max_depth': 10, 'ran...</td>\n",
       "      <td>0.855932</td>\n",
       "      <td>0.872340</td>\n",
       "      <td>0.842553</td>\n",
       "      <td>0.846809</td>\n",
       "      <td>0.863830</td>\n",
       "      <td>0.856293</td>\n",
       "      <td>0.010892</td>\n",
       "      <td>87</td>\n",
       "    </tr>\n",
       "    <tr>\n",
       "      <th>5</th>\n",
       "      <td>0.575059</td>\n",
       "      <td>0.077134</td>\n",
       "      <td>0.055770</td>\n",
       "      <td>0.002251</td>\n",
       "      <td>10</td>\n",
       "      <td>75</td>\n",
       "      <td>{'randomforestclassifier__max_depth': 10, 'ran...</td>\n",
       "      <td>0.855932</td>\n",
       "      <td>0.872340</td>\n",
       "      <td>0.846809</td>\n",
       "      <td>0.846809</td>\n",
       "      <td>0.863830</td>\n",
       "      <td>0.857144</td>\n",
       "      <td>0.009907</td>\n",
       "      <td>77</td>\n",
       "    </tr>\n",
       "  </tbody>\n",
       "</table>\n",
       "</div>"
      ],
      "text/plain": [
       "   mean_fit_time  std_fit_time  mean_score_time  std_score_time  \\\n",
       "0       0.514076      0.067212         0.070685        0.022708   \n",
       "1       0.551339      0.042182         0.068061        0.012751   \n",
       "2       0.678263      0.085703         0.061348        0.015928   \n",
       "3       0.545731      0.051863         0.066744        0.017753   \n",
       "4       0.603012      0.105094         0.058141        0.007724   \n",
       "5       0.575059      0.077134         0.055770        0.002251   \n",
       "\n",
       "  param_randomforestclassifier__max_depth  \\\n",
       "0                                      10   \n",
       "1                                      10   \n",
       "2                                      10   \n",
       "3                                      10   \n",
       "4                                      10   \n",
       "5                                      10   \n",
       "\n",
       "  param_randomforestclassifier__n_estimators  \\\n",
       "0                                         50   \n",
       "1                                         55   \n",
       "2                                         60   \n",
       "3                                         65   \n",
       "4                                         70   \n",
       "5                                         75   \n",
       "\n",
       "                                              params  split0_test_score  \\\n",
       "0  {'randomforestclassifier__max_depth': 10, 'ran...           0.855932   \n",
       "1  {'randomforestclassifier__max_depth': 10, 'ran...           0.855932   \n",
       "2  {'randomforestclassifier__max_depth': 10, 'ran...           0.855932   \n",
       "3  {'randomforestclassifier__max_depth': 10, 'ran...           0.855932   \n",
       "4  {'randomforestclassifier__max_depth': 10, 'ran...           0.855932   \n",
       "5  {'randomforestclassifier__max_depth': 10, 'ran...           0.855932   \n",
       "\n",
       "   split1_test_score  split2_test_score  split3_test_score  split4_test_score  \\\n",
       "0           0.863830           0.846809           0.855319           0.863830   \n",
       "1           0.868085           0.846809           0.859574           0.863830   \n",
       "2           0.863830           0.846809           0.855319           0.863830   \n",
       "3           0.868085           0.846809           0.851064           0.859574   \n",
       "4           0.872340           0.842553           0.846809           0.863830   \n",
       "5           0.872340           0.846809           0.846809           0.863830   \n",
       "\n",
       "   mean_test_score  std_test_score  rank_test_score  \n",
       "0         0.857144        0.006341               77  \n",
       "1         0.858846        0.007268               17  \n",
       "2         0.857144        0.006341               77  \n",
       "3         0.856293        0.007311               87  \n",
       "4         0.856293        0.010892               87  \n",
       "5         0.857144        0.009907               77  "
      ]
     },
     "execution_count": 8,
     "metadata": {},
     "output_type": "execute_result"
    }
   ],
   "source": [
    "cv_result = pd.DataFrame(model.cv_results_)\n",
    "cv_result.head(6)"
   ]
  },
  {
   "cell_type": "code",
   "execution_count": 9,
   "metadata": {},
   "outputs": [
    {
     "data": {
      "text/plain": [
       "{'randomforestclassifier__max_depth': 15,\n",
       " 'randomforestclassifier__n_estimators': 95}"
      ]
     },
     "execution_count": 9,
     "metadata": {},
     "output_type": "execute_result"
    }
   ],
   "source": [
    "# Extract the best hyperparameters\n",
    "model.best_params_"
   ]
  },
  {
   "cell_type": "markdown",
   "metadata": {},
   "source": [
    "#### Evaluate"
   ]
  },
  {
   "cell_type": "code",
   "execution_count": 16,
   "metadata": {},
   "outputs": [
    {
     "name": "stdout",
     "output_type": "stream",
     "text": [
      "Training Accuracy:  1.0\n",
      "Test Accuracy:  0.87\n"
     ]
    }
   ],
   "source": [
    "train_acc = model.score(X_train, y_train)\n",
    "test_acc = model.score(X_test, y_test)\n",
    "\n",
    "print(\"Training Accuracy: \", round(train_acc, 2))\n",
    "print(\"Test Accuracy: \", round(test_acc, 2))"
   ]
  },
  {
   "cell_type": "markdown",
   "metadata": {},
   "source": [
    "##### Plot Confusion Matrix"
   ]
  },
  {
   "cell_type": "code",
   "execution_count": 10,
   "metadata": {},
   "outputs": [
    {
     "data": {
      "text/plain": [
       "array([[250,   5],\n",
       "       [ 34,   5]])"
      ]
     },
     "execution_count": 10,
     "metadata": {},
     "output_type": "execute_result"
    }
   ],
   "source": [
    "# generate the confusion matrix\n",
    "y_pred = model.predict(X_test)\n",
    "cm = confusion_matrix(y_test, y_pred)\n",
    "cm"
   ]
  },
  {
   "cell_type": "code",
   "execution_count": 11,
   "metadata": {},
   "outputs": [
    {
     "data": {
      "image/png": "[encoded data removed]",
      "text/plain": [
       "<Figure size 640x480 with 2 Axes>"
      ]
     },
     "metadata": {},
     "output_type": "display_data"
    }
   ],
   "source": [
    "# Create the ConfusionMatrixDisplay object\n",
    "cm_display = ConfusionMatrixDisplay(confusion_matrix=cm, display_labels=model.classes_)\n",
    "\n",
    "# plot the confusion matrix\n",
    "cm_display.plot() \n",
    "plt.title(\"Confusion Matrix\");\n",
    "plt.savefig('../reports/confusion_matrix_RF.jpg')"
   ]
  },
  {
   "cell_type": "markdown",
   "metadata": {},
   "source": [
    "#### Communicate"
   ]
  },
  {
   "cell_type": "code",
   "execution_count": 18,
   "metadata": {},
   "outputs": [],
   "source": [
    "# get feature names\n",
    "features = model.best_estimator_.named_steps[\"onehotencoder\"].get_feature_names_out()\n",
    "# Extract the importances from model\n",
    "importances = model.best_estimator_.named_steps[\"randomforestclassifier\"].feature_importances_\n",
    "# create a series\n",
    "features_imp = pd.Series(importances, index=features).sort_values()"
   ]
  },
  {
   "cell_type": "code",
   "execution_count": 62,
   "metadata": {},
   "outputs": [
    {
     "data": {
      "image/png": "[encoded data removed]",
      "text/plain": [
       "<Figure size 640x480 with 1 Axes>"
      ]
     },
     "metadata": {},
     "output_type": "display_data"
    }
   ],
   "source": [
    "features_imp.tail(10).plot(kind=\"barh\")\n",
    "plt.xlabel(\"Features\")\n",
    "plt.ylabel(\"Gini Importances\")\n",
    "plt.title(\"Feature Importances\");"
   ]
  },
  {
   "cell_type": "markdown",
   "metadata": {},
   "source": [
    "#### Save the Model"
   ]
  },
  {
   "cell_type": "code",
   "execution_count": 11,
   "metadata": {},
   "outputs": [],
   "source": [
    "import joblib\n",
    "timestamp = pd.Timestamp.now().replace(microsecond=0).isoformat()\n",
    "file_path = os.path.join('../models', f'{timestamp}_RF.joblib')\n",
    "with open(file_path, 'wb') as f:\n",
    "    pickle.dump(model, f)\n"
   ]
  },
  {
   "cell_type": "code",
   "execution_count": null,
   "metadata": {},
   "outputs": [],
   "source": []
  }
 ],
 "metadata": {
  "interpreter": {
   "hash": "c883354b242dadbee75c7106c3e9feca4a7402ef3b3588184dc1df4be9150790"
  },
  "kernelspec": {
   "display_name": "Python 3.8.10 ('pystd_venv')",
   "language": "python",
   "name": "python3"
  },
  "language_info": {
   "codemirror_mode": {
    "name": "ipython",
    "version": 3
   },
   "file_extension": ".py",
   "mimetype": "text/x-python",
   "name": "python",
   "nbconvert_exporter": "python",
   "pygments_lexer": "ipython3",
   "version": "3.8.10"
  },
  "orig_nbformat": 4
 },
 "nbformat": 4,
 "nbformat_minor": 2
}
