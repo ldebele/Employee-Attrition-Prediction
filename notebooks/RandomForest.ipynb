{
 "cells": [
  {
   "cell_type": "code",
   "execution_count": 69,
   "metadata": {},
   "outputs": [],
   "source": [
    "import os\n",
    "import pickle\n",
    "\n",
    "import pandas as pd\n",
    "import matplotlib.pyplot as plt\n",
    "\n",
    "from sklearn.ensemble import RandomForestClassifier\n",
    "from sklearn.model_selection import train_test_split, GridSearchCV, cross_val_score\n",
    "from sklearn.metrics import ConfusionMatrixDisplay, confusion_matrix\n",
    "from sklearn.pipeline import make_pipeline\n",
    "from category_encoders import OneHotEncoder"
   ]
  },
  {
   "cell_type": "code",
   "execution_count": 5,
   "metadata": {},
   "outputs": [],
   "source": [
    "# read the data sets\n",
    "df = pd.read_csv('../data/clean_HR_Analytics.csv')"
   ]
  },
  {
   "cell_type": "markdown",
   "metadata": {},
   "source": [
    "#### Split"
   ]
  },
  {
   "cell_type": "code",
   "execution_count": 7,
   "metadata": {},
   "outputs": [],
   "source": [
    "# vertical split\n",
    "target = \"Attrition\"\n",
    "X = df.drop(columns=target)\n",
    "y = df[target]\n",
    "\n",
    "X_train, X_test, y_train, y_test = train_test_split(X, y, test_size=0.2, random_state=42)"
   ]
  },
  {
   "cell_type": "markdown",
   "metadata": {},
   "source": [
    "#### Build"
   ]
  },
  {
   "cell_type": "code",
   "execution_count": 33,
   "metadata": {},
   "outputs": [],
   "source": [
    "pipe = make_pipeline(\n",
    "    OneHotEncoder(use_cat_names=True),\n",
    "    RandomForestClassifier(random_state=42)\n",
    ")"
   ]
  },
  {
   "cell_type": "code",
   "execution_count": 34,
   "metadata": {},
   "outputs": [],
   "source": [
    "params = {\n",
    "    \"randomforestclassifier__n_estimators\": range(25, 100, 25),\n",
    "    \"randomforestclassifier__max_depth\": range(10, 50, 10)\n",
    "}"
   ]
  },
  {
   "cell_type": "code",
   "execution_count": 35,
   "metadata": {},
   "outputs": [
    {
     "data": {
      "text/plain": [
       "GridSearchCV(cv=5,\n",
       "             estimator=Pipeline(steps=[('onehotencoder',\n",
       "                                        OneHotEncoder(use_cat_names=True)),\n",
       "                                       ('randomforestclassifier',\n",
       "                                        RandomForestClassifier(random_state=42))]),\n",
       "             n_jobs=-1,\n",
       "             param_grid={'randomforestclassifier__max_depth': range(10, 50, 10),\n",
       "                         'randomforestclassifier__n_estimators': range(25, 100, 25)},\n",
       "             verbose=1)"
      ]
     },
     "execution_count": 35,
     "metadata": {},
     "output_type": "execute_result"
    }
   ],
   "source": [
    "model = GridSearchCV(\n",
    "    pipe,\n",
    "    param_grid=params,\n",
    "    cv=5,\n",
    "    n_jobs=-1,\n",
    "    verbose=1\n",
    ")\n",
    "\n",
    "model"
   ]
  },
  {
   "cell_type": "code",
   "execution_count": 36,
   "metadata": {},
   "outputs": [
    {
     "name": "stdout",
     "output_type": "stream",
     "text": [
      "Fitting 5 folds for each of 12 candidates, totalling 60 fits\n"
     ]
    },
    {
     "data": {
      "text/plain": [
       "GridSearchCV(cv=5,\n",
       "             estimator=Pipeline(steps=[('onehotencoder',\n",
       "                                        OneHotEncoder(use_cat_names=True)),\n",
       "                                       ('randomforestclassifier',\n",
       "                                        RandomForestClassifier(random_state=42))]),\n",
       "             n_jobs=-1,\n",
       "             param_grid={'randomforestclassifier__max_depth': range(10, 50, 10),\n",
       "                         'randomforestclassifier__n_estimators': range(25, 100, 25)},\n",
       "             verbose=1)"
      ]
     },
     "execution_count": 36,
     "metadata": {},
     "output_type": "execute_result"
    }
   ],
   "source": [
    "# Train model\n",
    "model.fit(X_train, y_train)"
   ]
  },
  {
   "cell_type": "code",
   "execution_count": 43,
   "metadata": {},
   "outputs": [
    {
     "data": {
      "text/html": [
       "<div>\n",
       "<style scoped>\n",
       "    .dataframe tbody tr th:only-of-type {\n",
       "        vertical-align: middle;\n",
       "    }\n",
       "\n",
       "    .dataframe tbody tr th {\n",
       "        vertical-align: top;\n",
       "    }\n",
       "\n",
       "    .dataframe thead th {\n",
       "        text-align: right;\n",
       "    }\n",
       "</style>\n",
       "<table border=\"1\" class=\"dataframe\">\n",
       "  <thead>\n",
       "    <tr style=\"text-align: right;\">\n",
       "      <th></th>\n",
       "      <th>mean_fit_time</th>\n",
       "      <th>std_fit_time</th>\n",
       "      <th>mean_score_time</th>\n",
       "      <th>std_score_time</th>\n",
       "      <th>param_randomforestclassifier__max_depth</th>\n",
       "      <th>param_randomforestclassifier__n_estimators</th>\n",
       "      <th>params</th>\n",
       "      <th>split0_test_score</th>\n",
       "      <th>split1_test_score</th>\n",
       "      <th>split2_test_score</th>\n",
       "      <th>split3_test_score</th>\n",
       "      <th>split4_test_score</th>\n",
       "      <th>mean_test_score</th>\n",
       "      <th>std_test_score</th>\n",
       "      <th>rank_test_score</th>\n",
       "    </tr>\n",
       "  </thead>\n",
       "  <tbody>\n",
       "    <tr>\n",
       "      <th>0</th>\n",
       "      <td>0.350243</td>\n",
       "      <td>0.038585</td>\n",
       "      <td>0.051918</td>\n",
       "      <td>0.007936</td>\n",
       "      <td>10</td>\n",
       "      <td>25</td>\n",
       "      <td>{'randomforestclassifier__max_depth': 10, 'ran...</td>\n",
       "      <td>0.855932</td>\n",
       "      <td>0.863830</td>\n",
       "      <td>0.842553</td>\n",
       "      <td>0.834043</td>\n",
       "      <td>0.863830</td>\n",
       "      <td>0.852038</td>\n",
       "      <td>0.011892</td>\n",
       "      <td>8</td>\n",
       "    </tr>\n",
       "    <tr>\n",
       "      <th>1</th>\n",
       "      <td>0.531362</td>\n",
       "      <td>0.107765</td>\n",
       "      <td>0.065404</td>\n",
       "      <td>0.012830</td>\n",
       "      <td>10</td>\n",
       "      <td>50</td>\n",
       "      <td>{'randomforestclassifier__max_depth': 10, 'ran...</td>\n",
       "      <td>0.855932</td>\n",
       "      <td>0.863830</td>\n",
       "      <td>0.846809</td>\n",
       "      <td>0.855319</td>\n",
       "      <td>0.863830</td>\n",
       "      <td>0.857144</td>\n",
       "      <td>0.006341</td>\n",
       "      <td>1</td>\n",
       "    </tr>\n",
       "    <tr>\n",
       "      <th>2</th>\n",
       "      <td>0.584546</td>\n",
       "      <td>0.081363</td>\n",
       "      <td>0.065618</td>\n",
       "      <td>0.016734</td>\n",
       "      <td>10</td>\n",
       "      <td>75</td>\n",
       "      <td>{'randomforestclassifier__max_depth': 10, 'ran...</td>\n",
       "      <td>0.855932</td>\n",
       "      <td>0.872340</td>\n",
       "      <td>0.846809</td>\n",
       "      <td>0.846809</td>\n",
       "      <td>0.863830</td>\n",
       "      <td>0.857144</td>\n",
       "      <td>0.009907</td>\n",
       "      <td>1</td>\n",
       "    </tr>\n",
       "    <tr>\n",
       "      <th>3</th>\n",
       "      <td>0.365090</td>\n",
       "      <td>0.034208</td>\n",
       "      <td>0.054259</td>\n",
       "      <td>0.006850</td>\n",
       "      <td>20</td>\n",
       "      <td>25</td>\n",
       "      <td>{'randomforestclassifier__max_depth': 20, 'ran...</td>\n",
       "      <td>0.855932</td>\n",
       "      <td>0.863830</td>\n",
       "      <td>0.846809</td>\n",
       "      <td>0.838298</td>\n",
       "      <td>0.855319</td>\n",
       "      <td>0.852038</td>\n",
       "      <td>0.008731</td>\n",
       "      <td>9</td>\n",
       "    </tr>\n",
       "    <tr>\n",
       "      <th>4</th>\n",
       "      <td>0.440502</td>\n",
       "      <td>0.044383</td>\n",
       "      <td>0.057727</td>\n",
       "      <td>0.006640</td>\n",
       "      <td>20</td>\n",
       "      <td>50</td>\n",
       "      <td>{'randomforestclassifier__max_depth': 20, 'ran...</td>\n",
       "      <td>0.851695</td>\n",
       "      <td>0.859574</td>\n",
       "      <td>0.842553</td>\n",
       "      <td>0.855319</td>\n",
       "      <td>0.846809</td>\n",
       "      <td>0.851190</td>\n",
       "      <td>0.006023</td>\n",
       "      <td>12</td>\n",
       "    </tr>\n",
       "    <tr>\n",
       "      <th>5</th>\n",
       "      <td>0.581108</td>\n",
       "      <td>0.062009</td>\n",
       "      <td>0.063573</td>\n",
       "      <td>0.008910</td>\n",
       "      <td>20</td>\n",
       "      <td>75</td>\n",
       "      <td>{'randomforestclassifier__max_depth': 20, 'ran...</td>\n",
       "      <td>0.860169</td>\n",
       "      <td>0.876596</td>\n",
       "      <td>0.846809</td>\n",
       "      <td>0.846809</td>\n",
       "      <td>0.855319</td>\n",
       "      <td>0.857140</td>\n",
       "      <td>0.010995</td>\n",
       "      <td>3</td>\n",
       "    </tr>\n",
       "  </tbody>\n",
       "</table>\n",
       "</div>"
      ],
      "text/plain": [
       "   mean_fit_time  std_fit_time  mean_score_time  std_score_time  \\\n",
       "0       0.350243      0.038585         0.051918        0.007936   \n",
       "1       0.531362      0.107765         0.065404        0.012830   \n",
       "2       0.584546      0.081363         0.065618        0.016734   \n",
       "3       0.365090      0.034208         0.054259        0.006850   \n",
       "4       0.440502      0.044383         0.057727        0.006640   \n",
       "5       0.581108      0.062009         0.063573        0.008910   \n",
       "\n",
       "  param_randomforestclassifier__max_depth  \\\n",
       "0                                      10   \n",
       "1                                      10   \n",
       "2                                      10   \n",
       "3                                      20   \n",
       "4                                      20   \n",
       "5                                      20   \n",
       "\n",
       "  param_randomforestclassifier__n_estimators  \\\n",
       "0                                         25   \n",
       "1                                         50   \n",
       "2                                         75   \n",
       "3                                         25   \n",
       "4                                         50   \n",
       "5                                         75   \n",
       "\n",
       "                                              params  split0_test_score  \\\n",
       "0  {'randomforestclassifier__max_depth': 10, 'ran...           0.855932   \n",
       "1  {'randomforestclassifier__max_depth': 10, 'ran...           0.855932   \n",
       "2  {'randomforestclassifier__max_depth': 10, 'ran...           0.855932   \n",
       "3  {'randomforestclassifier__max_depth': 20, 'ran...           0.855932   \n",
       "4  {'randomforestclassifier__max_depth': 20, 'ran...           0.851695   \n",
       "5  {'randomforestclassifier__max_depth': 20, 'ran...           0.860169   \n",
       "\n",
       "   split1_test_score  split2_test_score  split3_test_score  split4_test_score  \\\n",
       "0           0.863830           0.842553           0.834043           0.863830   \n",
       "1           0.863830           0.846809           0.855319           0.863830   \n",
       "2           0.872340           0.846809           0.846809           0.863830   \n",
       "3           0.863830           0.846809           0.838298           0.855319   \n",
       "4           0.859574           0.842553           0.855319           0.846809   \n",
       "5           0.876596           0.846809           0.846809           0.855319   \n",
       "\n",
       "   mean_test_score  std_test_score  rank_test_score  \n",
       "0         0.852038        0.011892                8  \n",
       "1         0.857144        0.006341                1  \n",
       "2         0.857144        0.009907                1  \n",
       "3         0.852038        0.008731                9  \n",
       "4         0.851190        0.006023               12  \n",
       "5         0.857140        0.010995                3  "
      ]
     },
     "execution_count": 43,
     "metadata": {},
     "output_type": "execute_result"
    }
   ],
   "source": [
    "cv_result = pd.DataFrame(model.cv_results_)\n",
    "cv_result.head(6)"
   ]
  },
  {
   "cell_type": "code",
   "execution_count": 39,
   "metadata": {},
   "outputs": [
    {
     "data": {
      "text/plain": [
       "{'randomforestclassifier__max_depth': 10,\n",
       " 'randomforestclassifier__n_estimators': 50}"
      ]
     },
     "execution_count": 39,
     "metadata": {},
     "output_type": "execute_result"
    }
   ],
   "source": [
    "# Extract the best hyperparameters\n",
    "model.best_params_"
   ]
  },
  {
   "cell_type": "markdown",
   "metadata": {},
   "source": [
    "#### Evaluate"
   ]
  },
  {
   "cell_type": "code",
   "execution_count": 40,
   "metadata": {},
   "outputs": [
    {
     "name": "stdout",
     "output_type": "stream",
     "text": [
      "Training Accuracy:  0.98\n",
      "Test Accuracy:  0.86\n"
     ]
    }
   ],
   "source": [
    "train_acc = model.score(X_train, y_train)\n",
    "test_acc = model.score(X_test, y_test)\n",
    "\n",
    "print(\"Training Accuracy: \", round(train_acc, 2))\n",
    "print(\"Test Accuracy: \", round(test_acc, 2))"
   ]
  },
  {
   "cell_type": "markdown",
   "metadata": {},
   "source": [
    "##### Plot Confusion Matrix"
   ]
  },
  {
   "cell_type": "code",
   "execution_count": 44,
   "metadata": {},
   "outputs": [
    {
     "data": {
      "text/plain": [
       "array([[250,   5],\n",
       "       [ 35,   4]])"
      ]
     },
     "execution_count": 44,
     "metadata": {},
     "output_type": "execute_result"
    }
   ],
   "source": [
    "# generate the confusion matrix\n",
    "y_pred = model.predict(X_test)\n",
    "cm = confusion_matrix(y_test, y_pred)\n",
    "cm"
   ]
  },
  {
   "cell_type": "code",
   "execution_count": 47,
   "metadata": {},
   "outputs": [
    {
     "data": {
      "image/png": "[encoded data removed]",
      "text/plain": [
       "<Figure size 640x480 with 2 Axes>"
      ]
     },
     "metadata": {},
     "output_type": "display_data"
    }
   ],
   "source": [
    "# Create the ConfusionMatrixDisplay object\n",
    "cm_display = ConfusionMatrixDisplay(confusion_matrix=cm, display_labels=model.classes_)\n",
    "\n",
    "# plot the confusion matrix\n",
    "cm_display.plot() \n",
    "plt.title(\"Confusion Matrix\");"
   ]
  },
  {
   "cell_type": "markdown",
   "metadata": {},
   "source": [
    "#### Communicate"
   ]
  },
  {
   "cell_type": "code",
   "execution_count": 68,
   "metadata": {},
   "outputs": [],
   "source": [
    "# get feature names\n",
    "features = model.best_estimator_.named_steps[\"onehotencoder\"].get_feature_names()\n",
    "# Extract the importances from model\n",
    "importances = model.best_estimator_.named_steps[\"randomforestclassifier\"].feature_importances_\n",
    "# create a series\n",
    "features_imp = pd.Series(importances, index=features).sort_values()\n"
   ]
  },
  {
   "cell_type": "code",
   "execution_count": 62,
   "metadata": {},
   "outputs": [
    {
     "data": {
      "image/png": "[encoded data removed]",
      "text/plain": [
       "<Figure size 640x480 with 1 Axes>"
      ]
     },
     "metadata": {},
     "output_type": "display_data"
    }
   ],
   "source": [
    "features_imp.tail(10).plot(kind=\"barh\")\n",
    "plt.xlabel(\"Features\")\n",
    "plt.ylabel(\"Gini Importances\")\n",
    "plt.title(\"Feature Importances\");"
   ]
  },
  {
   "cell_type": "markdown",
   "metadata": {},
   "source": [
    "#### Save the Model"
   ]
  },
  {
   "cell_type": "code",
   "execution_count": 70,
   "metadata": {},
   "outputs": [],
   "source": [
    "timestamp = pd.Timestamp.now().replace(microsecond=0).isoformat()\n",
    "file_path = os.path.join('../models', f'{timestamp}_RF.pkl')\n",
    "with open(file_path, 'wb') as f:\n",
    "    pickle.dump(model, f)"
   ]
  }
 ],
 "metadata": {
  "interpreter": {
   "hash": "c883354b242dadbee75c7106c3e9feca4a7402ef3b3588184dc1df4be9150790"
  },
  "kernelspec": {
   "display_name": "Python 3.8.10 ('pystd_venv')",
   "language": "python",
   "name": "python3"
  },
  "language_info": {
   "codemirror_mode": {
    "name": "ipython",
    "version": 3
   },
   "file_extension": ".py",
   "mimetype": "text/x-python",
   "name": "python",
   "nbconvert_exporter": "python",
   "pygments_lexer": "ipython3",
   "version": "3.8.10"
  },
  "orig_nbformat": 4
 },
 "nbformat": 4,
 "nbformat_minor": 2
}
